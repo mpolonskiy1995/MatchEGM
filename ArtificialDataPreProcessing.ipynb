{
 "cells": [
  {
   "cell_type": "code",
   "execution_count": 1,
   "metadata": {},
   "outputs": [],
   "source": [
    "import pandas as pd\n",
    "import numpy as np\n",
    "import seaborn as sns\n",
    "import zipfile, io\n",
    "import cv2 as cv2\n",
    "import matplotlib.pyplot as plt\n",
    "\n",
    "import warnings\n",
    "warnings.filterwarnings(\"ignore\")\n",
    "\n",
    "from scipy.signal import find_peaks\n",
    "from scipy.stats import pearsonr\n",
    "from tqdm import tqdm\n",
    "from imutils import build_montages\n",
    "import random\n",
    "import math"
   ]
  },
  {
   "attachments": {},
   "cell_type": "markdown",
   "metadata": {},
   "source": [
    "# Creating Signals from csv files\n",
    "- first data is unziped from archive\n",
    "- second each file is being iterrated over\n",
    "- third each column in a single file is choped into separate signals\n",
    "- fourth all signals are combined in a single signals list"
   ]
  },
  {
   "cell_type": "code",
   "execution_count": 1,
   "metadata": {},
   "outputs": [],
   "source": [
    "def chop_signal(signal, randomize, seed, distance, prominence, noisiness,  height):\n",
    "  \"\"\"Function for chopping time series into signals based on the peaks found\n",
    "\n",
    "  Args:\n",
    "      signal (pd series): signal to chop, index represents time in ms while values are voltage in mv\n",
    "      randomize (boolean): parameter controling randomization\n",
    "      seed (int): seed for reproducability\n",
    "      distance (int): amount of miliseconds to add/ subtract from position of any peak found\n",
    "      prominence (float): percentage to apply to max height for prominence factor\n",
    "      noisiness (int): max number of peaks, if more peaks are found signal is discarded\n",
    "      height (int): minimjum height of a peak recquired\n",
    "\n",
    "  Returns:\n",
    "      list: list of signals chopped for channel given\n",
    "  \"\"\"\n",
    "  random.seed(seed)\n",
    "  \n",
    "  # magnifying peaks\n",
    "  squared_signal = signal**2 \n",
    "  # calculating the prominence (prom) by taking prominence % of the highest peak found\n",
    "  prom = prominence * np.max(squared_signal) \n",
    "  # Executing scipy function\n",
    "  peaks = find_peaks(squared_signal, distance=distance, prominence=prom, height=height)\n",
    "  # list of peak positions\n",
    "  peaks_pos = peaks[0] \n",
    "  \n",
    "  # data cleaning of all peaks found\n",
    "  max = len(signal)\n",
    "  signals = []\n",
    "  if len(peaks_pos )<noisiness: # omit noisy signals\n",
    "    # iterrating over all identified valid peaks\n",
    "    for peak in  peaks_pos :\n",
    "        # determining distance to wear of from peak\n",
    "        distance = random.randint(50,100) if randomize else distance\n",
    "        if peak >=distance and peak <= max-distance:\n",
    "            chop_signal = pd.DataFrame(signal[peak-distance:peak+distance])\n",
    "            signals.append(chop_signal)\n",
    "  return signals"
   ]
  },
  {
   "cell_type": "code",
   "execution_count": null,
   "metadata": {},
   "outputs": [],
   "source": [
    "def get_signals(df,  distance, noisiness, prominence, height, seed, randomize = False):\n",
    "  \"\"\"Function for extracting signals columnwise\n",
    "\n",
    "  Args:\n",
    "      df (pd dataframe): dataframe of current ECG file\n",
    "      distance (int): amount of miliseconds to add/ subtract from position of any peak found\n",
    "      prominence (float): percentage to apply to max height for prominence factor\n",
    "      noisiness (int): max number of peaks, if more peaks are found signal is discarded\n",
    "      height (int): minimjum height of a peak recquired\n",
    "      seed (int): seed for reproducability\n",
    "      randomize (boolean, optional): parameter controling randomization. Defaults to False\n",
    "\n",
    "  Returns:\n",
    "      list: list of extracted signals for the file given\n",
    "  \"\"\"\n",
    "  signals = []\n",
    "  channels = df.columns\n",
    "  for channel in channels:\n",
    "    egm = df[channel]\n",
    "    new_signals = chop_signal(signal = egm, distance = distance, seed=seed, randomize=randomize, noisiness=noisiness, prominence=prominence, height=height)\n",
    "    signals.extend(new_signals)\n",
    "  return signals"
   ]
  },
  {
   "cell_type": "code",
   "execution_count": null,
   "metadata": {},
   "outputs": [],
   "source": [
    "def zip2signals(z, distance, noisiness, prominence, amount, height, seed, randomize):\n",
    "  \"\"\" Function for extracting signals from zip file\n",
    "\n",
    "  Args:\n",
    "      z (zipfile): processed zipfile\n",
    "      distance (int): amount of miliseconds to add/ subtract from position of any peak found\n",
    "      noisiness (int): max number of peaks, if more peaks are found signal is discarded\n",
    "      prominence (float): percentage to apply to max height for prominence factor\n",
    "      amount (int): thresholding param if less signals should be extracted\n",
    "      height (int): minimjum height of a peak recquired\n",
    "      seed (int): seed for reproducability\n",
    "      randomize (boolean): parameter controling randomization\n",
    "\n",
    "  Returns:\n",
    "      list: list containing signals processed for zipfile given\n",
    "  \"\"\"\n",
    "  signals = []\n",
    "  for filename in tqdm(z.namelist(), desc='Extracting signals from Zip...'):\n",
    "    df = pd.read_csv(z.open(filename), delim_whitespace=True, skiprows=(0,1,2),header=(0))\n",
    "    new_signals = get_signals(df=df, distance=distance, noisiness=noisiness, prominence=prominence, seed=seed, randomize=randomize, height=height)\n",
    "    signals.extend(new_signals)\n",
    "    if  amount!=None and len(signals) > amount:\n",
    "        break\n",
    "  print(f\"Number of signals extracted: {len(signals[:amount])}\")\n",
    "  return signals[:amount]"
   ]
  },
  {
   "cell_type": "code",
   "execution_count": null,
   "metadata": {},
   "outputs": [],
   "source": [
    "def load_signals(zip_folder, distance, noisiness, prominence, height ,randomize, seed, amount=None):\n",
    "  \"\"\"Function for loading data from zip file and converting it to a list with signals\n",
    "  Args:\n",
    "      zip_folder (string): path of zip file\n",
    "      distance (int): amount of miliseconds to add/ subtract from position of any peak found\n",
    "      noisiness (int): max number of peaks, if more peaks are found signal is discarded\n",
    "      prominence (float): percentage to apply to max height for prominence factor\n",
    "      height (int): minimjum height of a peak recquired\n",
    "      randomize (boolean): parameter controling randomization\n",
    "      seed (int): seed for reproducability\n",
    "      amount (int, optional): number of signals after which to stop iteration. If None all files are processed. Defaults to None.\n",
    "\n",
    "  Returns:\n",
    "      list: list of signals\n",
    "  \"\"\"\n",
    "  z = zipfile.ZipFile(zip_folder)\n",
    "  signals = zip2signals(z, amount=amount, distance=distance, noisiness=noisiness, prominence=prominence, randomize=randomize, seed=seed, height=height)\n",
    "  \n",
    "  return signals"
   ]
  },
  {
   "cell_type": "code",
   "execution_count": 10,
   "metadata": {},
   "outputs": [
    {
     "name": "stderr",
     "output_type": "stream",
     "text": [
      "Extracting signals from Zip...: 100%|██████████| 30/30 [00:04<00:00,  6.99it/s]"
     ]
    },
    {
     "name": "stdout",
     "output_type": "stream",
     "text": [
      "Number of signals extracted: 8071\n"
     ]
    },
    {
     "name": "stderr",
     "output_type": "stream",
     "text": [
      "\n"
     ]
    }
   ],
   "source": [
    "signals = np.array(load_signals(zip_folder=\"SourceData.zip\", distance=70, noisiness = 17, prominence=0.2, height=10, randomize=False, seed=42))"
   ]
  },
  {
   "attachments": {},
   "cell_type": "markdown",
   "metadata": {},
   "source": [
    "# Reducing amplitude variation via percentiles"
   ]
  },
  {
   "cell_type": "code",
   "execution_count": 11,
   "metadata": {},
   "outputs": [],
   "source": [
    "def reduce_percentile(signals, show, threshold):\n",
    "    \"\"\"Function for reducing number of signals by looking at amplitude distribution via boxplot\n",
    "\n",
    "    Args:\n",
    "        signals (list): signals to reduce\n",
    "        show (boolean): parameter for displaying boxplot\n",
    "        threshold (int): 0 represents box, 1 represents whiskers\n",
    "\n",
    "    Returns:\n",
    "        list: reduced signal list\n",
    "    \"\"\"\n",
    "    box = plt.boxplot(signals.max(axis=1) - signals.min(axis=1))\n",
    "    upperbound = [item.get_ydata() for item in box['whiskers']][1][threshold]\n",
    "    lowerbound = [item.get_ydata() for item in box['whiskers']][0][threshold]\n",
    "    \n",
    "    signals_amp = signals.max(axis=1) - signals.min(axis=1)\n",
    "    signals_amp = signals_amp.flatten()\n",
    "    signals = signals[((signals_amp > lowerbound) & (signals_amp < upperbound)).nonzero()[0]]\n",
    "    if show :\n",
    "        plt.ylabel(\"Signal Amplitude\")\n",
    "        plt.xlabel(\"Signals\")\n",
    "        plt.tick_params( axis='x', which='both', labelbottom=False)\n",
    "        plt.title(\"Amplitude distribution of signals\")\n",
    "        plt.show() \n",
    "    else:\n",
    "        plt.close()\n",
    "    return signals"
   ]
  },
  {
   "attachments": {},
   "cell_type": "markdown",
   "metadata": {},
   "source": [
    "## Reducing to inner box"
   ]
  },
  {
   "cell_type": "code",
   "execution_count": 12,
   "metadata": {},
   "outputs": [
    {
     "data": {
      "image/png": "[encoded data removed]",
      "text/plain": [
       "<Figure size 640x480 with 1 Axes>"
      ]
     },
     "metadata": {},
     "output_type": "display_data"
    }
   ],
   "source": [
    "sns.set_style(\"whitegrid\")\n",
    "signals = reduce_percentile(signals=signals, show=True, threshold=0)[:,:,0]"
   ]
  },
  {
   "attachments": {},
   "cell_type": "markdown",
   "metadata": {},
   "source": [
    "## Reducing to outer whiskers"
   ]
  },
  {
   "cell_type": "code",
   "execution_count": 13,
   "metadata": {},
   "outputs": [
    {
     "data": {
      "image/png": "[encoded data removed]",
      "text/plain": [
       "<Figure size 640x480 with 1 Axes>"
      ]
     },
     "metadata": {},
     "output_type": "display_data"
    }
   ],
   "source": [
    "signals = reduce_percentile(signals=signals, show=True, threshold=1)"
   ]
  },
  {
   "attachments": {},
   "cell_type": "markdown",
   "metadata": {},
   "source": [
    "## Final boxplot"
   ]
  },
  {
   "cell_type": "code",
   "execution_count": 14,
   "metadata": {},
   "outputs": [
    {
     "data": {
      "image/png": "[encoded data removed]",
      "text/plain": [
       "<Figure size 640x480 with 1 Axes>"
      ]
     },
     "metadata": {},
     "output_type": "display_data"
    },
    {
     "name": "stdout",
     "output_type": "stream",
     "text": [
      "(3729, 140)\n"
     ]
    }
   ],
   "source": [
    "res = reduce_percentile(signals=signals, show=True, threshold=1)\n",
    "print(signals.shape)\n",
    "plt.show()"
   ]
  },
  {
   "attachments": {},
   "cell_type": "markdown",
   "metadata": {},
   "source": [
    "# Generating images from signals"
   ]
  },
  {
   "cell_type": "code",
   "execution_count": null,
   "metadata": {},
   "outputs": [],
   "source": [
    "def signal2image(signal, i, size,  imgfolder, ymin, ymax, scalefactor = None ):\n",
    "    \"\"\"Function for plotting signal as lineplot and saving the corresponding figure\n",
    "\n",
    "    Args:\n",
    "        signal (list): signal for plotting\n",
    "        i (int): index to add to saved file\n",
    "        size (int, int): resulting size of the image\n",
    "        imgfolder (string): url to folder location\n",
    "        ymin (int): minimal y value, used for scaling \n",
    "        ymax (int): maximal y value, used for scaling \n",
    "        scalefactor (float, optional): percentage value usef for randomized scaling . Defaults to None.\n",
    "    \"\"\"\n",
    "\n",
    "    y = signal\n",
    "    x = np.arange(len(signal))\n",
    " \n",
    "    # Draw signal on dark background\n",
    "    sns.set_style(\"darkgrid\")\n",
    "    sns.set(rc={'axes.facecolor':'black', 'figure.facecolor':'black'})\n",
    "    fig, ax = plt.subplots(1, figsize=(size[0] / 100, size[1] / 100)) # skalierung gemäß den verhältnissen meines monitors, dpi zahl etc\n",
    "\n",
    "    ax.set_ylim(ymin * scalefactor, ymax * scalefactor)\n",
    "    sns.lineplot(y=y, x=x, color=\"white\", ax=ax)\n",
    "    plt.axis('off')\n",
    "    plt.tight_layout()\n",
    "    plt.margins(x=0)\n",
    "    plt.savefig(f\"{imgfolder}/img{i}.png\", facecolor=fig.get_facecolor(), dpi=100, bbox_inches='tight', pad_inches=0)\n",
    "    plt.close()\n",
    "    "
   ]
  },
  {
   "cell_type": "code",
   "execution_count": null,
   "metadata": {},
   "outputs": [],
   "source": [
    "def generate_images(signals, size, imgfolder, ymin, ymax, scalefactor):\n",
    "  \"\"\"Function for plotting all signals and saving them as images\n",
    "\n",
    "  Args:\n",
    "        signals (list): signals for plotting\n",
    "        size (int, int): resulting size of the image\n",
    "        imgfolder (string): url to folder location\n",
    "        ymin (int): minimal y value, used for scaling \n",
    "        ymax (int): maximal y value, used for scaling \n",
    "        scalefactor (float, optional): percentage value usef for randomized scaling . Defaults to None.\n",
    "  \"\"\"\n",
    "  i = 0\n",
    "  for signal in tqdm(signals, desc='Generating images of signals...'):\n",
    "    signal2image(signal, size=size, i=i,  imgfolder=imgfolder, ymin=ymin, ymax=ymax, scalefactor=scalefactor)\n",
    "    i += 1\n"
   ]
  },
  {
   "cell_type": "code",
   "execution_count": 15,
   "metadata": {},
   "outputs": [
    {
     "name": "stderr",
     "output_type": "stream",
     "text": [
      "Generating images of signals...: 100%|██████████| 3729/3729 [03:09<00:00, 19.65it/s]\n"
     ]
    }
   ],
   "source": [
    "border = 36.1\n",
    "# experimental margin to ensure equal size as defined since shape is lost due to omitting padding and tight layout\n",
    "generate_images(signals, size=(224 + border + 0.5,224 + border), imgfolder=\"trainingimgs\", ymin=signals.min(), ymax=signals.max(), scalefactor = 1.5 )"
   ]
  },
  {
   "attachments": {},
   "cell_type": "markdown",
   "metadata": {},
   "source": [
    "# Computing correlation labels"
   ]
  },
  {
   "cell_type": "code",
   "execution_count": null,
   "metadata": {},
   "outputs": [],
   "source": [
    "def compute_ncc(a, b, corr=\"Pearson\"):\n",
    "  \"\"\"Function for computing correlation between two series\n",
    "\n",
    "  Args:\n",
    "      a (array): first series\n",
    "      b (array): second series\n",
    "      corr (str, optional): correlation function to use. Defaults to \"Pearson\".\n",
    "\n",
    "  Returns:\n",
    "      np array: calculated correlation value\n",
    "  \"\"\"\n",
    "  if a.shape != b.shape:\n",
    "    print('Error: signals are of different lenght!')\n",
    "    return float('NaN')\n",
    "  elif corr == \"Pearson\":\n",
    "    c = pearsonr(a, b) \n",
    "    score = c[0]\n",
    "  return np.round(score,2)"
   ]
  },
  {
   "cell_type": "code",
   "execution_count": null,
   "metadata": {},
   "outputs": [],
   "source": [
    "def make_labels(signals, corr, n_templates = None):\n",
    "    \"\"\"Function for calculating labels for all signals passed\n",
    "\n",
    "    Args:\n",
    "        signals (list): list of signals\n",
    "        corr (string): correlation function to use\n",
    "        n_templates (int, optional): Threshold number of templates for reduction. Defaults to None, than all signals are used\n",
    "\n",
    "    Returns:\n",
    "        (np array, np array): touple containing two arrays, the first keeping the indexes of images, the second the calculated label for this image pair\n",
    "    \"\"\"\n",
    "    # initialize two empty lists to hold the indexes of (image, image) pairs and\n",
    "    # labels to indicate the match score\n",
    "\n",
    "    pairImages = []\n",
    "    pairLabels = []\n",
    "    number = len(signals)\n",
    "    if n_templates == None:\n",
    "      n_templates = len(signals)\n",
    "      \n",
    "    # loop over n_templates of images\n",
    "    for idxA in tqdm(np.random.choice(np.arange(0, number), size=n_templates), desc='Generating pairs and labels ...'):     \n",
    "        for idxB in np.random.choice(np.arange(0, number), size=number): # loop until uniform distibution\n",
    "            label = compute_ncc(signals[idxA], signals[idxB], corr=corr) # calculate label       \n",
    "            pairImages.append([idxA, idxB])\n",
    "            pairLabels.append(label)\n",
    "\n",
    "    # return a 2-tuple of image pair indexes and labels\n",
    "    print('Number of pairs generated: ', len(pairLabels))\n",
    "    return (np.array(pairImages), np.array(pairLabels))"
   ]
  },
  {
   "cell_type": "code",
   "execution_count": 16,
   "metadata": {},
   "outputs": [
    {
     "name": "stderr",
     "output_type": "stream",
     "text": [
      "Generating pairs and labels ...: 100%|██████████| 3729/3729 [05:44<00:00, 10.81it/s]\n"
     ]
    },
    {
     "name": "stdout",
     "output_type": "stream",
     "text": [
      "Number of pairs generated:  13905441\n"
     ]
    }
   ],
   "source": [
    "pairs, labels = make_labels(signals = signals, corr=\"Pearson\")"
   ]
  },
  {
   "attachments": {},
   "cell_type": "markdown",
   "metadata": {},
   "source": [
    "# Taking a look at labels distribution"
   ]
  },
  {
   "cell_type": "code",
   "execution_count": 17,
   "metadata": {},
   "outputs": [
    {
     "data": {
      "text/plain": [
       "Text(0.5, 0, 'Correlation Value')"
      ]
     },
     "execution_count": 17,
     "metadata": {},
     "output_type": "execute_result"
    },
    {
     "data": {
      "image/png": "[encoded data removed]",
      "text/plain": [
       "<Figure size 1000x600 with 1 Axes>"
      ]
     },
     "metadata": {},
     "output_type": "display_data"
    }
   ],
   "source": [
    "# Distribution of the labels in test set\n",
    "# Draw signal \n",
    "sns.set_style(\"whitegrid\")\n",
    "fig ,ax = plt.subplots(1,1,figsize=(10,6))\n",
    "sns.histplot(labels, bins=200, ax=ax )\n",
    "plt.title(\"Correlation Distribtuion for Artificial Data\")\n",
    "plt.ylabel(\"Number of Samples\")\n",
    "plt.xlabel(\"Correlation Value\")"
   ]
  },
  {
   "attachments": {},
   "cell_type": "markdown",
   "metadata": {},
   "source": [
    "## Applying binning and reducing number of pairs to lowest value for equal class distribution"
   ]
  },
  {
   "cell_type": "code",
   "execution_count": 18,
   "metadata": {},
   "outputs": [
    {
     "name": "stdout",
     "output_type": "stream",
     "text": [
      "Smallest subgroup is: -1.0 with threhsold: 3538\n"
     ]
    }
   ],
   "source": [
    "minsubgroup = 1000\n",
    "start = -100\n",
    "stop = 100\n",
    "threshold =  float('inf')\n",
    "for i in range(start,stop,1):\n",
    "    group = i / 100\n",
    "    subgroup = labels[labels == (group) ]\n",
    "    if subgroup.size < threshold:\n",
    "        threshold = subgroup.size \n",
    "        minsubgroup = subgroup[0]     \n",
    "print(f\"Smallest subgroup is: {minsubgroup} with threhsold: {threshold}\")"
   ]
  },
  {
   "cell_type": "code",
   "execution_count": 19,
   "metadata": {},
   "outputs": [],
   "source": [
    "def leveldistribution(labels, pairs, start, stop, threshold =  float('inf')):\n",
    "    \"\"\"Function for leveling label distribution according to bin size\n",
    "\n",
    "    Args:\n",
    "        labels (np array): labels to use for reduction \n",
    "        pairs (np array): array of image pairs with indexes\n",
    "        start (int): lower bin value\n",
    "        stop (int): upper bin value\n",
    "        threshold (int, optional): lower bound to use for bins. Defaults to float('inf')\n",
    "\n",
    "    Returns:\n",
    "        list, list: labels, pairs\n",
    "    \"\"\"\n",
    "    for i in range(start,stop,1):\n",
    "        group = i / 100\n",
    "        subgroup = labels[labels == (group) ]\n",
    "        if subgroup.size < threshold:\n",
    "            threshold = subgroup.size \n",
    "    respairs = []\n",
    "    reslabels = []\n",
    "    np.random.seed(42)\n",
    "    for i in range(start,stop,1):\n",
    "        group = i / 100\n",
    "        subpairs = pairs[labels == (group) ]\n",
    "        sublabels = labels[labels == (group) ]\n",
    "        subids  = np.random.choice(sublabels.size, threshold)\n",
    "        subpairs = subpairs[subids]\n",
    "        sublabels = sublabels[subids]\n",
    "        reslabels.extend(sublabels)\n",
    "        respairs.extend(subpairs)\n",
    "\n",
    "    reslabels = np.array(reslabels)\n",
    "    respairs = np.array(respairs)\n",
    "    \n",
    "\n",
    "    return reslabels, respairs"
   ]
  },
  {
   "cell_type": "code",
   "execution_count": 20,
   "metadata": {},
   "outputs": [],
   "source": [
    "# we omit -1 for threshold search since we deem it as not that important and only very few examples exist \n",
    "reslabels, respairs = leveldistribution(labels=labels, pairs=pairs, start=-99, stop=101, threshold=50)"
   ]
  },
  {
   "cell_type": "code",
   "execution_count": 21,
   "metadata": {},
   "outputs": [
    {
     "data": {
      "image/png": "[encoded data removed]",
      "text/plain": [
       "<Figure size 640x480 with 1 Axes>"
      ]
     },
     "metadata": {},
     "output_type": "display_data"
    }
   ],
   "source": [
    "np.unique(reslabels).size, sns.histplot(reslabels,bins=200)\n",
    "sns.set_style(\"whitegrid\")\n",
    "plt.title(\"Leveled Distribtuion for Artificial Data\")\n",
    "plt.ylabel(\"Number of Samples\")\n",
    "plt.xlabel(\"Correlation Value\")\n",
    "plt.show()"
   ]
  },
  {
   "attachments": {},
   "cell_type": "markdown",
   "metadata": {},
   "source": [
    "# Saving final files of pairs, labels and timeseries as numpy arrays"
   ]
  },
  {
   "cell_type": "code",
   "execution_count": 22,
   "metadata": {},
   "outputs": [],
   "source": [
    "np.save(\"trainingData/imagePairsPearson\", respairs, allow_pickle=True )\n",
    "np.save(\"trainingData/imageLabelsPearson\", reslabels, allow_pickle=True )\n",
    "np.save(\"trainingData/imageLabelstimeseries\", signals, allow_pickle=True )"
   ]
  },
  {
   "attachments": {},
   "cell_type": "markdown",
   "metadata": {},
   "source": [
    "# Repeating the same procedure albeit with randomized data generation"
   ]
  },
  {
   "cell_type": "code",
   "execution_count": 23,
   "metadata": {},
   "outputs": [],
   "source": [
    "def generate_images(signals, pairs, imgfolder = \"trainingimgs_random\"):\n",
    "  \"\"\"Function for plotting all signals and saving them as images with randomization\n",
    "\n",
    "  Args:\n",
    "      signals (list): signals for plotting\n",
    "      pairs (np array): array of image pairs indexes\n",
    "      imgfolder (str, optional): folder to use for new plots. Defaults to \"trainingimgs_random\".\n",
    "\n",
    "  Returns:\n",
    "      list, list, list: new image pair indexes, created image plots, logging information which randomiztaion has been applied\n",
    "  \"\"\"\n",
    "  \n",
    "  realpairs = []\n",
    "  images = []\n",
    "  newpairs = []\n",
    "  logging = []\n",
    "  i = 0\n",
    "  # generiere jetzt immer 2 bilder mit gleicher pixel skalierung\n",
    "  for pair in tqdm(pairs, desc='Generating images of signals...'):\n",
    "    size = ( random.randint(50,200) + border,  random.randint(50,200) + border)\n",
    "    scalefactor = random.randint(100,150) / 100\n",
    "    ymin, ymax = min(signals[pair[0]].min(),signals[pair[1]].min()), max(signals[pair[0]].max(),signals[pair[1]].max())\n",
    "    image1 = signal2image(signals[pair[0]],  size=size, i=i, imgfolder=imgfolder, scalefactor= scalefactor, ymin=ymin, ymax=ymax )\n",
    "    image2 = signal2image(signals[pair[1]], size=size, i=i+1, imgfolder=imgfolder, scalefactor= scalefactor, ymin=ymin, ymax=ymax )\n",
    "    images.append((image1,image2))\n",
    "    newpairs.append((i,i+1))\n",
    "    realpairs.append(pairs)\n",
    "    logging.append((size,scalefactor,ymin,ymax))\n",
    "    i+=2\n",
    "  print('Number of images generated: ', len(images))\n",
    "  return newpairs, images, logging"
   ]
  },
  {
   "cell_type": "code",
   "execution_count": 24,
   "metadata": {},
   "outputs": [
    {
     "name": "stderr",
     "output_type": "stream",
     "text": [
      "Extracting signals from Zip...: 100%|██████████| 30/30 [00:04<00:00,  7.23it/s]\n"
     ]
    },
    {
     "name": "stdout",
     "output_type": "stream",
     "text": [
      "Number of signals extracted: 8063\n"
     ]
    },
    {
     "name": "stderr",
     "output_type": "stream",
     "text": [
      "Extracting signals from Zip...: 100%|██████████| 30/30 [00:04<00:00,  7.35it/s]\n"
     ]
    },
    {
     "name": "stdout",
     "output_type": "stream",
     "text": [
      "Number of signals extracted: 8098\n"
     ]
    },
    {
     "name": "stderr",
     "output_type": "stream",
     "text": [
      "Extracting signals from Zip...: 100%|██████████| 30/30 [00:04<00:00,  7.22it/s]\n"
     ]
    },
    {
     "name": "stdout",
     "output_type": "stream",
     "text": [
      "Number of signals extracted: 8097\n"
     ]
    },
    {
     "name": "stderr",
     "output_type": "stream",
     "text": [
      "Extracting signals from Zip...: 100%|██████████| 30/30 [00:04<00:00,  7.17it/s]\n"
     ]
    },
    {
     "name": "stdout",
     "output_type": "stream",
     "text": [
      "Number of signals extracted: 8096\n"
     ]
    },
    {
     "name": "stderr",
     "output_type": "stream",
     "text": [
      "Extracting signals from Zip...: 100%|██████████| 30/30 [00:03<00:00,  7.62it/s]\n"
     ]
    },
    {
     "name": "stdout",
     "output_type": "stream",
     "text": [
      "Number of signals extracted: 8095\n"
     ]
    },
    {
     "name": "stderr",
     "output_type": "stream",
     "text": [
      "Extracting signals from Zip...: 100%|██████████| 30/30 [00:04<00:00,  7.12it/s]\n"
     ]
    },
    {
     "name": "stdout",
     "output_type": "stream",
     "text": [
      "Number of signals extracted: 8047\n"
     ]
    },
    {
     "name": "stderr",
     "output_type": "stream",
     "text": [
      "Extracting signals from Zip...: 100%|██████████| 30/30 [00:04<00:00,  7.23it/s]\n"
     ]
    },
    {
     "name": "stdout",
     "output_type": "stream",
     "text": [
      "Number of signals extracted: 7993\n"
     ]
    },
    {
     "name": "stderr",
     "output_type": "stream",
     "text": [
      "Extracting signals from Zip...: 100%|██████████| 30/30 [00:04<00:00,  7.38it/s]\n"
     ]
    },
    {
     "name": "stdout",
     "output_type": "stream",
     "text": [
      "Number of signals extracted: 8071\n"
     ]
    },
    {
     "name": "stderr",
     "output_type": "stream",
     "text": [
      "Extracting signals from Zip...: 100%|██████████| 30/30 [00:04<00:00,  7.20it/s]\n"
     ]
    },
    {
     "name": "stdout",
     "output_type": "stream",
     "text": [
      "Number of signals extracted: 8097\n"
     ]
    },
    {
     "name": "stderr",
     "output_type": "stream",
     "text": [
      "Extracting signals from Zip...: 100%|██████████| 30/30 [00:04<00:00,  7.47it/s]\n"
     ]
    },
    {
     "name": "stdout",
     "output_type": "stream",
     "text": [
      "Number of signals extracted: 8059\n"
     ]
    },
    {
     "name": "stderr",
     "output_type": "stream",
     "text": [
      "Extracting signals from Zip...: 100%|██████████| 30/30 [00:04<00:00,  7.45it/s]\n"
     ]
    },
    {
     "name": "stdout",
     "output_type": "stream",
     "text": [
      "Number of signals extracted: 8054\n"
     ]
    },
    {
     "name": "stderr",
     "output_type": "stream",
     "text": [
      "Extracting signals from Zip...: 100%|██████████| 30/30 [00:04<00:00,  7.17it/s]\n"
     ]
    },
    {
     "name": "stdout",
     "output_type": "stream",
     "text": [
      "Number of signals extracted: 8059\n"
     ]
    },
    {
     "name": "stderr",
     "output_type": "stream",
     "text": [
      "Extracting signals from Zip...: 100%|██████████| 30/30 [00:03<00:00,  7.71it/s]\n"
     ]
    },
    {
     "name": "stdout",
     "output_type": "stream",
     "text": [
      "Number of signals extracted: 8058\n"
     ]
    },
    {
     "name": "stderr",
     "output_type": "stream",
     "text": [
      "Extracting signals from Zip...: 100%|██████████| 30/30 [00:03<00:00,  7.63it/s]\n"
     ]
    },
    {
     "name": "stdout",
     "output_type": "stream",
     "text": [
      "Number of signals extracted: 8094\n"
     ]
    },
    {
     "name": "stderr",
     "output_type": "stream",
     "text": [
      "Extracting signals from Zip...: 100%|██████████| 30/30 [00:04<00:00,  7.19it/s]\n"
     ]
    },
    {
     "name": "stdout",
     "output_type": "stream",
     "text": [
      "Number of signals extracted: 8096\n"
     ]
    },
    {
     "name": "stderr",
     "output_type": "stream",
     "text": [
      "Extracting signals from Zip...: 100%|██████████| 30/30 [00:03<00:00,  7.63it/s]\n"
     ]
    },
    {
     "name": "stdout",
     "output_type": "stream",
     "text": [
      "Number of signals extracted: 8097\n"
     ]
    },
    {
     "name": "stderr",
     "output_type": "stream",
     "text": [
      "Extracting signals from Zip...: 100%|██████████| 30/30 [00:03<00:00,  7.52it/s]\n"
     ]
    },
    {
     "name": "stdout",
     "output_type": "stream",
     "text": [
      "Number of signals extracted: 8063\n"
     ]
    },
    {
     "name": "stderr",
     "output_type": "stream",
     "text": [
      "Extracting signals from Zip...: 100%|██████████| 30/30 [00:04<00:00,  7.04it/s]\n"
     ]
    },
    {
     "name": "stdout",
     "output_type": "stream",
     "text": [
      "Number of signals extracted: 8059\n"
     ]
    },
    {
     "name": "stderr",
     "output_type": "stream",
     "text": [
      "Extracting signals from Zip...: 100%|██████████| 30/30 [00:03<00:00,  7.57it/s]\n"
     ]
    },
    {
     "name": "stdout",
     "output_type": "stream",
     "text": [
      "Number of signals extracted: 8097\n"
     ]
    },
    {
     "name": "stderr",
     "output_type": "stream",
     "text": [
      "Extracting signals from Zip...: 100%|██████████| 30/30 [00:03<00:00,  7.67it/s]"
     ]
    },
    {
     "name": "stdout",
     "output_type": "stream",
     "text": [
      "Number of signals extracted: 8044\n"
     ]
    },
    {
     "name": "stderr",
     "output_type": "stream",
     "text": [
      "\n"
     ]
    }
   ],
   "source": [
    "signals = []\n",
    "# using several seeds to obtain signals with varying length distribution\n",
    "for seed in range(0,20):\n",
    "    signallist = load_signals(zip_folder=\"SourceData.zip\", distance=70, noisiness = 17, prominence=0.2, height=10, randomize=True, seed=seed)\n",
    "    signals.extend(signallist)"
   ]
  },
  {
   "attachments": {},
   "cell_type": "markdown",
   "metadata": {},
   "source": [
    "# Reducing amplitude distribution and leveling number of different signal lengths obtained "
   ]
  },
  {
   "cell_type": "code",
   "execution_count": 25,
   "metadata": {},
   "outputs": [],
   "source": [
    "def reduce_percentile_twice(signals, show):\n",
    "    \"\"\"Function for executing amplitude distribution reduction analogues to the uniform case\n",
    "\n",
    "    Args:\n",
    "        signals (list): signals generated\n",
    "        show (boolean): controls display of created boxplots\n",
    "\n",
    "    Returns:\n",
    "        : _description_\n",
    "    \"\"\"\n",
    "    signals = reduce_percentile(signals=signals, show=show, threshold=0)\n",
    "    signals = reduce_percentile(signals=signals, show=show, threshold=1)\n",
    "    return signals"
   ]
  },
  {
   "cell_type": "code",
   "execution_count": 26,
   "metadata": {},
   "outputs": [],
   "source": [
    "# alignment of the signals, filtering on all signals that occur at least 100 times in any length (i.e. different signals with a length of 50 are retained if there are more than 100 of them in total).\n",
    "df_signals = pd.DataFrame({\"signal\" : signals})\n",
    "df_signals[\"length\"] = df_signals[\"signal\"].apply(lambda x: len(x))\n",
    "df_signals[\"signal\"] = df_signals[\"signal\"].apply(lambda x: np.array(x).flatten())\n",
    "# alignment of all singal lengths by randomly selecting and retaining 50 pieces per length group.\n",
    "df_signals = df_signals.groupby(\"length\").filter(lambda x: len(x) >= 100)\n",
    "# applying amplitude reduction by percentiles\n",
    "df_signals = df_signals.groupby(\"length\")[\"signal\"].apply(lambda x: reduce_percentile_twice(np.array([np.array(a) for a in x]), show=False))\n",
    "# Creating a list of lists with signals of equal length\n",
    "df_signals = df_signals.apply(lambda x : x[np.random.randint(0,len(x),100)])\n",
    "signallist = df_signals.to_list()"
   ]
  },
  {
   "cell_type": "code",
   "execution_count": 27,
   "metadata": {},
   "outputs": [
    {
     "data": {
      "image/png": "[encoded data removed]",
      "text/plain": [
       "<Figure size 640x480 with 1 Axes>"
      ]
     },
     "metadata": {},
     "output_type": "display_data"
    }
   ],
   "source": [
    "sns.set_style(\"whitegrid\")\n",
    "plt.bar(df_signals.index,100)\n",
    "plt.title(\"Signals per binned signal length\")\n",
    "plt.ylabel(\"No of elements\")\n",
    "plt.xlabel(\"Signal length\")\n",
    "plt.show()"
   ]
  },
  {
   "attachments": {},
   "cell_type": "markdown",
   "metadata": {},
   "source": [
    "# Generating image pairs and calculating correlation labels"
   ]
  },
  {
   "cell_type": "code",
   "execution_count": 28,
   "metadata": {},
   "outputs": [
    {
     "name": "stderr",
     "output_type": "stream",
     "text": [
      "Generating pairs and labels ...: 100%|██████████| 100/100 [00:00<00:00, 405.44it/s]\n"
     ]
    },
    {
     "name": "stdout",
     "output_type": "stream",
     "text": [
      "Number of pairs generated:  10000\n"
     ]
    },
    {
     "name": "stderr",
     "output_type": "stream",
     "text": [
      "Generating pairs and labels ...: 100%|██████████| 100/100 [00:00<00:00, 420.02it/s]\n"
     ]
    },
    {
     "name": "stdout",
     "output_type": "stream",
     "text": [
      "Number of pairs generated:  10000\n"
     ]
    },
    {
     "name": "stderr",
     "output_type": "stream",
     "text": [
      "Generating pairs and labels ...: 100%|██████████| 100/100 [00:00<00:00, 380.79it/s]\n"
     ]
    },
    {
     "name": "stdout",
     "output_type": "stream",
     "text": [
      "Number of pairs generated:  10000\n"
     ]
    },
    {
     "name": "stderr",
     "output_type": "stream",
     "text": [
      "Generating pairs and labels ...: 100%|██████████| 100/100 [00:00<00:00, 448.19it/s]\n"
     ]
    },
    {
     "name": "stdout",
     "output_type": "stream",
     "text": [
      "Number of pairs generated:  10000\n"
     ]
    },
    {
     "name": "stderr",
     "output_type": "stream",
     "text": [
      "Generating pairs and labels ...: 100%|██████████| 100/100 [00:00<00:00, 322.94it/s]\n"
     ]
    },
    {
     "name": "stdout",
     "output_type": "stream",
     "text": [
      "Number of pairs generated:  10000\n"
     ]
    },
    {
     "name": "stderr",
     "output_type": "stream",
     "text": [
      "Generating pairs and labels ...: 100%|██████████| 100/100 [00:00<00:00, 449.05it/s]\n"
     ]
    },
    {
     "name": "stdout",
     "output_type": "stream",
     "text": [
      "Number of pairs generated:  10000\n"
     ]
    },
    {
     "name": "stderr",
     "output_type": "stream",
     "text": [
      "Generating pairs and labels ...: 100%|██████████| 100/100 [00:00<00:00, 391.87it/s]\n"
     ]
    },
    {
     "name": "stdout",
     "output_type": "stream",
     "text": [
      "Number of pairs generated:  10000\n"
     ]
    },
    {
     "name": "stderr",
     "output_type": "stream",
     "text": [
      "Generating pairs and labels ...: 100%|██████████| 100/100 [00:00<00:00, 407.29it/s]\n"
     ]
    },
    {
     "name": "stdout",
     "output_type": "stream",
     "text": [
      "Number of pairs generated:  10000\n"
     ]
    },
    {
     "name": "stderr",
     "output_type": "stream",
     "text": [
      "Generating pairs and labels ...: 100%|██████████| 100/100 [00:00<00:00, 364.03it/s]\n"
     ]
    },
    {
     "name": "stdout",
     "output_type": "stream",
     "text": [
      "Number of pairs generated:  10000\n"
     ]
    },
    {
     "name": "stderr",
     "output_type": "stream",
     "text": [
      "Generating pairs and labels ...: 100%|██████████| 100/100 [00:00<00:00, 429.69it/s]\n"
     ]
    },
    {
     "name": "stdout",
     "output_type": "stream",
     "text": [
      "Number of pairs generated:  10000\n"
     ]
    },
    {
     "name": "stderr",
     "output_type": "stream",
     "text": [
      "Generating pairs and labels ...: 100%|██████████| 100/100 [00:00<00:00, 423.35it/s]\n"
     ]
    },
    {
     "name": "stdout",
     "output_type": "stream",
     "text": [
      "Number of pairs generated:  10000\n"
     ]
    },
    {
     "name": "stderr",
     "output_type": "stream",
     "text": [
      "Generating pairs and labels ...: 100%|██████████| 100/100 [00:00<00:00, 431.68it/s]\n"
     ]
    },
    {
     "name": "stdout",
     "output_type": "stream",
     "text": [
      "Number of pairs generated:  10000\n"
     ]
    },
    {
     "name": "stderr",
     "output_type": "stream",
     "text": [
      "Generating pairs and labels ...: 100%|██████████| 100/100 [00:00<00:00, 353.33it/s]\n"
     ]
    },
    {
     "name": "stdout",
     "output_type": "stream",
     "text": [
      "Number of pairs generated:  10000\n"
     ]
    },
    {
     "name": "stderr",
     "output_type": "stream",
     "text": [
      "Generating pairs and labels ...: 100%|██████████| 100/100 [00:00<00:00, 435.83it/s]\n"
     ]
    },
    {
     "name": "stdout",
     "output_type": "stream",
     "text": [
      "Number of pairs generated:  10000\n"
     ]
    },
    {
     "name": "stderr",
     "output_type": "stream",
     "text": [
      "Generating pairs and labels ...: 100%|██████████| 100/100 [00:00<00:00, 403.19it/s]\n"
     ]
    },
    {
     "name": "stdout",
     "output_type": "stream",
     "text": [
      "Number of pairs generated:  10000\n"
     ]
    },
    {
     "name": "stderr",
     "output_type": "stream",
     "text": [
      "Generating pairs and labels ...: 100%|██████████| 100/100 [00:00<00:00, 334.97it/s]\n"
     ]
    },
    {
     "name": "stdout",
     "output_type": "stream",
     "text": [
      "Number of pairs generated:  10000\n"
     ]
    },
    {
     "name": "stderr",
     "output_type": "stream",
     "text": [
      "Generating pairs and labels ...: 100%|██████████| 100/100 [00:00<00:00, 415.80it/s]\n"
     ]
    },
    {
     "name": "stdout",
     "output_type": "stream",
     "text": [
      "Number of pairs generated:  10000\n"
     ]
    },
    {
     "name": "stderr",
     "output_type": "stream",
     "text": [
      "Generating pairs and labels ...: 100%|██████████| 100/100 [00:00<00:00, 416.82it/s]\n"
     ]
    },
    {
     "name": "stdout",
     "output_type": "stream",
     "text": [
      "Number of pairs generated:  10000\n"
     ]
    },
    {
     "name": "stderr",
     "output_type": "stream",
     "text": [
      "Generating pairs and labels ...: 100%|██████████| 100/100 [00:00<00:00, 431.91it/s]\n"
     ]
    },
    {
     "name": "stdout",
     "output_type": "stream",
     "text": [
      "Number of pairs generated:  10000\n"
     ]
    },
    {
     "name": "stderr",
     "output_type": "stream",
     "text": [
      "Generating pairs and labels ...: 100%|██████████| 100/100 [00:00<00:00, 402.99it/s]\n"
     ]
    },
    {
     "name": "stdout",
     "output_type": "stream",
     "text": [
      "Number of pairs generated:  10000\n"
     ]
    },
    {
     "name": "stderr",
     "output_type": "stream",
     "text": [
      "Generating pairs and labels ...: 100%|██████████| 100/100 [00:00<00:00, 400.51it/s]\n"
     ]
    },
    {
     "name": "stdout",
     "output_type": "stream",
     "text": [
      "Number of pairs generated:  10000\n"
     ]
    },
    {
     "name": "stderr",
     "output_type": "stream",
     "text": [
      "Generating pairs and labels ...: 100%|██████████| 100/100 [00:00<00:00, 413.76it/s]\n"
     ]
    },
    {
     "name": "stdout",
     "output_type": "stream",
     "text": [
      "Number of pairs generated:  10000\n"
     ]
    },
    {
     "name": "stderr",
     "output_type": "stream",
     "text": [
      "Generating pairs and labels ...: 100%|██████████| 100/100 [00:00<00:00, 415.44it/s]\n"
     ]
    },
    {
     "name": "stdout",
     "output_type": "stream",
     "text": [
      "Number of pairs generated:  10000\n"
     ]
    },
    {
     "name": "stderr",
     "output_type": "stream",
     "text": [
      "Generating pairs and labels ...: 100%|██████████| 100/100 [00:00<00:00, 423.79it/s]\n"
     ]
    },
    {
     "name": "stdout",
     "output_type": "stream",
     "text": [
      "Number of pairs generated:  10000\n"
     ]
    },
    {
     "name": "stderr",
     "output_type": "stream",
     "text": [
      "Generating pairs and labels ...: 100%|██████████| 100/100 [00:00<00:00, 410.72it/s]\n"
     ]
    },
    {
     "name": "stdout",
     "output_type": "stream",
     "text": [
      "Number of pairs generated:  10000\n"
     ]
    },
    {
     "name": "stderr",
     "output_type": "stream",
     "text": [
      "Generating pairs and labels ...: 100%|██████████| 100/100 [00:00<00:00, 354.70it/s]\n"
     ]
    },
    {
     "name": "stdout",
     "output_type": "stream",
     "text": [
      "Number of pairs generated:  10000\n"
     ]
    },
    {
     "name": "stderr",
     "output_type": "stream",
     "text": [
      "Generating pairs and labels ...: 100%|██████████| 100/100 [00:00<00:00, 408.71it/s]\n"
     ]
    },
    {
     "name": "stdout",
     "output_type": "stream",
     "text": [
      "Number of pairs generated:  10000\n"
     ]
    },
    {
     "name": "stderr",
     "output_type": "stream",
     "text": [
      "Generating pairs and labels ...: 100%|██████████| 100/100 [00:00<00:00, 407.48it/s]\n"
     ]
    },
    {
     "name": "stdout",
     "output_type": "stream",
     "text": [
      "Number of pairs generated:  10000\n"
     ]
    },
    {
     "name": "stderr",
     "output_type": "stream",
     "text": [
      "Generating pairs and labels ...: 100%|██████████| 100/100 [00:00<00:00, 419.25it/s]\n"
     ]
    },
    {
     "name": "stdout",
     "output_type": "stream",
     "text": [
      "Number of pairs generated:  10000\n"
     ]
    },
    {
     "name": "stderr",
     "output_type": "stream",
     "text": [
      "Generating pairs and labels ...: 100%|██████████| 100/100 [00:00<00:00, 438.45it/s]\n"
     ]
    },
    {
     "name": "stdout",
     "output_type": "stream",
     "text": [
      "Number of pairs generated:  10000\n"
     ]
    },
    {
     "name": "stderr",
     "output_type": "stream",
     "text": [
      "Generating pairs and labels ...: 100%|██████████| 100/100 [00:00<00:00, 386.81it/s]\n"
     ]
    },
    {
     "name": "stdout",
     "output_type": "stream",
     "text": [
      "Number of pairs generated:  10000\n"
     ]
    },
    {
     "name": "stderr",
     "output_type": "stream",
     "text": [
      "Generating pairs and labels ...: 100%|██████████| 100/100 [00:00<00:00, 425.58it/s]\n"
     ]
    },
    {
     "name": "stdout",
     "output_type": "stream",
     "text": [
      "Number of pairs generated:  10000\n"
     ]
    },
    {
     "name": "stderr",
     "output_type": "stream",
     "text": [
      "Generating pairs and labels ...: 100%|██████████| 100/100 [00:00<00:00, 417.60it/s]\n"
     ]
    },
    {
     "name": "stdout",
     "output_type": "stream",
     "text": [
      "Number of pairs generated:  10000\n"
     ]
    },
    {
     "name": "stderr",
     "output_type": "stream",
     "text": [
      "Generating pairs and labels ...: 100%|██████████| 100/100 [00:00<00:00, 402.99it/s]\n"
     ]
    },
    {
     "name": "stdout",
     "output_type": "stream",
     "text": [
      "Number of pairs generated:  10000\n"
     ]
    },
    {
     "name": "stderr",
     "output_type": "stream",
     "text": [
      "Generating pairs and labels ...: 100%|██████████| 100/100 [00:00<00:00, 358.91it/s]\n"
     ]
    },
    {
     "name": "stdout",
     "output_type": "stream",
     "text": [
      "Number of pairs generated:  10000\n"
     ]
    },
    {
     "name": "stderr",
     "output_type": "stream",
     "text": [
      "Generating pairs and labels ...: 100%|██████████| 100/100 [00:00<00:00, 380.68it/s]\n"
     ]
    },
    {
     "name": "stdout",
     "output_type": "stream",
     "text": [
      "Number of pairs generated:  10000\n"
     ]
    },
    {
     "name": "stderr",
     "output_type": "stream",
     "text": [
      "Generating pairs and labels ...: 100%|██████████| 100/100 [00:00<00:00, 412.11it/s]\n"
     ]
    },
    {
     "name": "stdout",
     "output_type": "stream",
     "text": [
      "Number of pairs generated:  10000\n"
     ]
    },
    {
     "name": "stderr",
     "output_type": "stream",
     "text": [
      "Generating pairs and labels ...: 100%|██████████| 100/100 [00:00<00:00, 415.13it/s]\n"
     ]
    },
    {
     "name": "stdout",
     "output_type": "stream",
     "text": [
      "Number of pairs generated:  10000\n"
     ]
    },
    {
     "name": "stderr",
     "output_type": "stream",
     "text": [
      "Generating pairs and labels ...: 100%|██████████| 100/100 [00:00<00:00, 377.25it/s]\n"
     ]
    },
    {
     "name": "stdout",
     "output_type": "stream",
     "text": [
      "Number of pairs generated:  10000\n"
     ]
    },
    {
     "name": "stderr",
     "output_type": "stream",
     "text": [
      "Generating pairs and labels ...: 100%|██████████| 100/100 [00:00<00:00, 376.43it/s]\n"
     ]
    },
    {
     "name": "stdout",
     "output_type": "stream",
     "text": [
      "Number of pairs generated:  10000\n"
     ]
    },
    {
     "name": "stderr",
     "output_type": "stream",
     "text": [
      "Generating pairs and labels ...: 100%|██████████| 100/100 [00:00<00:00, 393.49it/s]\n"
     ]
    },
    {
     "name": "stdout",
     "output_type": "stream",
     "text": [
      "Number of pairs generated:  10000\n"
     ]
    },
    {
     "name": "stderr",
     "output_type": "stream",
     "text": [
      "Generating pairs and labels ...: 100%|██████████| 100/100 [00:00<00:00, 374.60it/s]\n"
     ]
    },
    {
     "name": "stdout",
     "output_type": "stream",
     "text": [
      "Number of pairs generated:  10000\n"
     ]
    },
    {
     "name": "stderr",
     "output_type": "stream",
     "text": [
      "Generating pairs and labels ...: 100%|██████████| 100/100 [00:00<00:00, 431.54it/s]\n"
     ]
    },
    {
     "name": "stdout",
     "output_type": "stream",
     "text": [
      "Number of pairs generated:  10000\n"
     ]
    },
    {
     "name": "stderr",
     "output_type": "stream",
     "text": [
      "Generating pairs and labels ...: 100%|██████████| 100/100 [00:00<00:00, 426.78it/s]\n"
     ]
    },
    {
     "name": "stdout",
     "output_type": "stream",
     "text": [
      "Number of pairs generated:  10000\n"
     ]
    },
    {
     "name": "stderr",
     "output_type": "stream",
     "text": [
      "Generating pairs and labels ...: 100%|██████████| 100/100 [00:00<00:00, 430.61it/s]\n"
     ]
    },
    {
     "name": "stdout",
     "output_type": "stream",
     "text": [
      "Number of pairs generated:  10000\n"
     ]
    },
    {
     "name": "stderr",
     "output_type": "stream",
     "text": [
      "Generating pairs and labels ...: 100%|██████████| 100/100 [00:00<00:00, 351.46it/s]\n"
     ]
    },
    {
     "name": "stdout",
     "output_type": "stream",
     "text": [
      "Number of pairs generated:  10000\n"
     ]
    },
    {
     "name": "stderr",
     "output_type": "stream",
     "text": [
      "Generating pairs and labels ...: 100%|██████████| 100/100 [00:00<00:00, 408.07it/s]\n"
     ]
    },
    {
     "name": "stdout",
     "output_type": "stream",
     "text": [
      "Number of pairs generated:  10000\n"
     ]
    },
    {
     "name": "stderr",
     "output_type": "stream",
     "text": [
      "Generating pairs and labels ...: 100%|██████████| 100/100 [00:00<00:00, 370.62it/s]\n"
     ]
    },
    {
     "name": "stdout",
     "output_type": "stream",
     "text": [
      "Number of pairs generated:  10000\n"
     ]
    },
    {
     "name": "stderr",
     "output_type": "stream",
     "text": [
      "Generating pairs and labels ...: 100%|██████████| 100/100 [00:00<00:00, 419.25it/s]"
     ]
    },
    {
     "name": "stdout",
     "output_type": "stream",
     "text": [
      "Number of pairs generated:  10000\n"
     ]
    },
    {
     "name": "stderr",
     "output_type": "stream",
     "text": [
      "\n"
     ]
    }
   ],
   "source": [
    "pairs = []\n",
    "labels = []\n",
    "signals_flat = []\n",
    "rollingidx = 0\n",
    "# labels werden nun pro gruppe erzeugt, also pairing zwischen allen signalen der länge 100 etc\n",
    "for signals in signallist:\n",
    "    currpairs , currlabels = make_labels(signals = signals , corr=\"Pearson\")\n",
    "    pairs.extend(currpairs + rollingidx)\n",
    "    labels.extend(currlabels)\n",
    "    rollingidx += len(signals )\n",
    "    signals_flat.extend(signals )"
   ]
  },
  {
   "cell_type": "code",
   "execution_count": 29,
   "metadata": {},
   "outputs": [
    {
     "data": {
      "image/png": "[encoded data removed]",
      "text/plain": [
       "<Figure size 640x480 with 1 Axes>"
      ]
     },
     "metadata": {},
     "output_type": "display_data"
    }
   ],
   "source": [
    "# angleichung der Labels sodass alle korrelationswerte gleich häufig sind\n",
    "reslabels, respairs = leveldistribution(labels=np.array(labels), pairs=np.array(pairs), start=-99, stop=101, threshold=50)\n",
    "sns.set_style(\"whitegrid\")\n",
    "sns.histplot(reslabels, bins=200)\n",
    "plt.show()"
   ]
  },
  {
   "cell_type": "code",
   "execution_count": 30,
   "metadata": {},
   "outputs": [
    {
     "name": "stderr",
     "output_type": "stream",
     "text": [
      "Generating images of signals...: 100%|██████████| 10000/10000 [16:55<00:00,  9.85it/s]"
     ]
    },
    {
     "name": "stdout",
     "output_type": "stream",
     "text": [
      "Number of images generated:  10000\n"
     ]
    },
    {
     "name": "stderr",
     "output_type": "stream",
     "text": [
      "\n"
     ]
    }
   ],
   "source": [
    "# reindexierung der pairs von 0 bis max sodass immer zwei benachbarte bilder ein paar sind, also 0,1 etc. erzeugung der bilder\n",
    "newpairs, images, logging = generate_images(signals_flat, respairs, imgfolder = \"trainingimgs_random\")"
   ]
  },
  {
   "attachments": {},
   "cell_type": "markdown",
   "metadata": {},
   "source": [
    "## Saving the randomized files as numpy arrays"
   ]
  },
  {
   "cell_type": "code",
   "execution_count": 31,
   "metadata": {},
   "outputs": [],
   "source": [
    "np.save(\"trainingData/imagePairsRandom\", newpairs, allow_pickle=True )\n",
    "np.save(\"trainingData/imageLabelsRandom\", reslabels, allow_pickle=True )"
   ]
  },
  {
   "attachments": {},
   "cell_type": "markdown",
   "metadata": {},
   "source": [
    "# Visualizing sample signals"
   ]
  },
  {
   "cell_type": "code",
   "execution_count": 2,
   "metadata": {},
   "outputs": [],
   "source": [
    "def montage_pairs_samples(pairs, labels, imgloc, size=(7,7)):\n",
    "    \"\"\"Function for creating a signal montage\n",
    "\n",
    "    Args:\n",
    "        pairs (np array): array containing img indexes\n",
    "        labels (np array): array containing correlation labels \n",
    "        imgloc (string): folder with images corresponding to indexes in pairs array\n",
    "        size (tuple, optional): size of plotting figure with montages. Defaults to (7,7).\n",
    "\n",
    "    Returns:\n",
    "        np array: array containing montages ready for display\n",
    "    \"\"\"\n",
    "    sample = []\n",
    "    x, y = size\n",
    "    # loop over a sample of our training pairs\n",
    "    for i in np.random.choice(np.arange(0, len(pairs)), size=(x * y,)):\n",
    "    # grab the current image pair and label\n",
    "        imageA = cv2.cvtColor(cv2.imread(f\"{imgloc}/img{pairs[i][0]}.png\"),cv2.COLOR_BGR2GRAY)\n",
    "        imageB = cv2.cvtColor(cv2.imread(f\"{imgloc}/img{pairs[i][1]}.png\"),cv2.COLOR_BGR2GRAY)\n",
    "        label = labels[i]\n",
    "\n",
    "        # to make it easier to visualize the pairs and their positive or\n",
    "        # negative annotations, we're going to \"pad\" the pair with 1\n",
    "        # pixel along borders\n",
    "        imageA = cv2.copyMakeBorder(imageA,5,5,10,5, borderType = cv2.BORDER_CONSTANT)\n",
    "        imageB = cv2.copyMakeBorder(imageB,5,5,10,5, borderType = cv2.BORDER_CONSTANT)\n",
    "        pair = np.hstack([imageA, imageB])\n",
    "        output = np.ones((pair.shape[0]+20, pair.shape[1]+20), dtype=\"uint8\")\n",
    "        output[19:-1, 19:-1] = pair\n",
    "        output = cv2.cvtColor(output, cv2.COLOR_BGR2RGB)\n",
    "        # set the text label for the pair along with what color we are\n",
    "        # going to draw the pair in (green for 'similar signals')\n",
    "        text = str(label)\n",
    "        color = (255, 255, 0) #if label < 0.75 else (0, 255, 0)\n",
    "\n",
    "        cv2.putText(output, text, (30, 50), cv2.FONT_HERSHEY_SIMPLEX, 2, color, 2)\n",
    "\n",
    "        # add the pair visualization to our list of output images\n",
    "        sample.append(output)\n",
    "\n",
    "    # construct the montage for the images\n",
    "    montage = build_montages(sample, (pair.shape[1]+20, pair.shape[0]+20), size)[0]\n",
    "    # show the output montage\n",
    "    return montage"
   ]
  },
  {
   "cell_type": "code",
   "execution_count": 6,
   "metadata": {},
   "outputs": [],
   "source": [
    "def cv2_imshow(image):\n",
    "  \"\"\"Function for displaying image via cv2 including color conversion\n",
    "\n",
    "  Args:\n",
    "      image (list): image to display\n",
    "      \n",
    "  \"\"\"\n",
    "  # convert the image frame BGR to RGB color space and display it\n",
    "  plt.figure(figsize=(14, 14))\n",
    "  image = cv2.cvtColor(image, cv2.COLOR_BGR2RGB)\n",
    "  plt.imshow(image)\n",
    "  plt.grid(False)\n",
    "  plt.axis('off')\n",
    "  plt.show()"
   ]
  },
  {
   "cell_type": "code",
   "execution_count": 4,
   "metadata": {},
   "outputs": [],
   "source": [
    "pairs, labels = np.load(\"trainingData/imagePairsPearson.npy\"), np.load(\"trainingData/imageLabelsPearson.npy\")"
   ]
  },
  {
   "cell_type": "code",
   "execution_count": 7,
   "metadata": {},
   "outputs": [
    {
     "data": {
      "image/png": "[encoded data removed]",
      "text/plain": [
       "<Figure size 1400x1400 with 1 Axes>"
      ]
     },
     "metadata": {},
     "output_type": "display_data"
    }
   ],
   "source": [
    "cv2_imshow(montage_pairs_samples(pairs, labels, imgloc=\"trainingimgs\"))"
   ]
  }
 ],
 "metadata": {
  "kernelspec": {
   "display_name": "UKSH",
   "language": "python",
   "name": "python3"
  },
  "language_info": {
   "codemirror_mode": {
    "name": "ipython",
    "version": 3
   },
   "file_extension": ".py",
   "mimetype": "text/x-python",
   "name": "python",
   "nbconvert_exporter": "python",
   "pygments_lexer": "ipython3",
   "version": "3.10.4"
  },
  "orig_nbformat": 4,
  "vscode": {
   "interpreter": {
    "hash": "8bcfe374eb6962dfaa81be4d9965aebe0aa9e8512cbd375dd90ce444d679a914"
   }
  }
 },
 "nbformat": 4,
 "nbformat_minor": 2
}
